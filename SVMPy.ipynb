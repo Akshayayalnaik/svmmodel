{
 "cells": [
  {
   "cell_type": "code",
   "execution_count": 2,
   "id": "2dc50c2a",
   "metadata": {},
   "outputs": [],
   "source": [
    "import pandas as pd\n",
    "import numpy as np\n",
    "from seaborn import pairplot\n",
    "import matplotlib.pyplot as plt\n",
    "from sklearn.svm import SVC"
   ]
  },
  {
   "cell_type": "code",
   "execution_count": 4,
   "id": "11b0338d",
   "metadata": {},
   "outputs": [],
   "source": [
    "df=pd.read_csv('faults.csv')"
   ]
  },
  {
   "cell_type": "code",
   "execution_count": 5,
   "id": "51c1860d",
   "metadata": {},
   "outputs": [
    {
     "data": {
      "text/plain": [
       "X_Minimum                0\n",
       "X_Maximum                0\n",
       "Y_Minimum                0\n",
       "Y_Maximum                0\n",
       "Pixels_Areas             0\n",
       "X_Perimeter              0\n",
       "Y_Perimeter              0\n",
       "Sum_of_Luminosity        0\n",
       "Minimum_of_Luminosity    0\n",
       "Maximum_of_Luminosity    0\n",
       "Length_of_Conveyer       0\n",
       "TypeOfSteel_A300         0\n",
       "TypeOfSteel_A400         0\n",
       "Steel_Plate_Thickness    0\n",
       "Edges_Index              0\n",
       "Empty_Index              0\n",
       "Square_Index             0\n",
       "Outside_X_Index          0\n",
       "Edges_X_Index            0\n",
       "Edges_Y_Index            0\n",
       "Outside_Global_Index     0\n",
       "LogOfAreas               0\n",
       "Log_X_Index              0\n",
       "Log_Y_Index              0\n",
       "Orientation_Index        0\n",
       "Luminosity_Index         0\n",
       "SigmoidOfAreas           0\n",
       "Pastry                   0\n",
       "Z_Scratch                0\n",
       "K_Scatch                 0\n",
       "Stains                   0\n",
       "Dirtiness                0\n",
       "Bumps                    0\n",
       "Other_Faults             0\n",
       "dtype: int64"
      ]
     },
     "execution_count": 5,
     "metadata": {},
     "output_type": "execute_result"
    }
   ],
   "source": [
    "# finding if any missing values\n",
    "df.isnull().sum()"
   ]
  },
  {
   "cell_type": "code",
   "execution_count": 6,
   "id": "16cbdc5e",
   "metadata": {},
   "outputs": [
    {
     "data": {
      "image/png": "[encoded data removed]",
      "text/plain": [
       "<Figure size 640x480 with 1 Axes>"
      ]
     },
     "metadata": {},
     "output_type": "display_data"
    }
   ],
   "source": [
    "#Histogram- For univariate/Bivariate analysis\n",
    "\n",
    "import seaborn as sns\n",
    "import matplotlib.pyplot as plt\n",
    "sns.histplot(x='Stains', data=df, )\n",
    "plt.show()"
   ]
  },
  {
   "cell_type": "code",
   "execution_count": 7,
   "id": "0185538e",
   "metadata": {},
   "outputs": [
    {
     "data": {
      "text/plain": [
       "(1941,)"
      ]
     },
     "execution_count": 7,
     "metadata": {},
     "output_type": "execute_result"
    }
   ],
   "source": [
    "y=df.iloc[:,24].values\n",
    "y.shape"
   ]
  },
  {
   "cell_type": "code",
   "execution_count": 8,
   "id": "1b73e619",
   "metadata": {},
   "outputs": [
    {
     "data": {
      "text/plain": [
       "(1941, 24)"
      ]
     },
     "execution_count": 8,
     "metadata": {},
     "output_type": "execute_result"
    }
   ],
   "source": [
    "X=df.iloc[:,0:24].values\n",
    "X.shape"
   ]
  },
  {
   "cell_type": "code",
   "execution_count": 9,
   "id": "05dd610d",
   "metadata": {},
   "outputs": [
    {
     "data": {
      "text/plain": [
       "(1941, 24)"
      ]
     },
     "execution_count": 9,
     "metadata": {},
     "output_type": "execute_result"
    }
   ],
   "source": [
    "#Standardising the data\n",
    "from sklearn.preprocessing import StandardScaler\n",
    "SC=StandardScaler()\n",
    "X=SC.fit_transform(X)\n",
    "X.shape"
   ]
  },
  {
   "cell_type": "code",
   "execution_count": 10,
   "id": "03d54515",
   "metadata": {},
   "outputs": [],
   "source": [
    "#Split the dataset into training and testing data\n",
    "from sklearn.model_selection import train_test_split\n",
    "X_train,X_test,y_train,y_test=train_test_split(X,y,test_size=0.2,random_state=4)"
   ]
  },
  {
   "cell_type": "code",
   "execution_count": 11,
   "id": "a8b5135b",
   "metadata": {},
   "outputs": [
    {
     "data": {
      "text/plain": [
       "SVR(kernel='linear')"
      ]
     },
     "execution_count": 11,
     "metadata": {},
     "output_type": "execute_result"
    }
   ],
   "source": [
    "from sklearn.svm import SVR\n",
    "regressor=SVR(kernel='linear')\n",
    "regressor.fit(X_train,y_train)"
   ]
  },
  {
   "cell_type": "code",
   "execution_count": 12,
   "id": "07743b1d",
   "metadata": {},
   "outputs": [
    {
     "name": "stdout",
     "output_type": "stream",
     "text": [
      "R2 score is: 0.9705288965115672\n",
      "RMSE value is: 0.08512318860323675\n"
     ]
    }
   ],
   "source": [
    "from sklearn.metrics import mean_squared_error,r2_score\n",
    "prediction=regressor.predict(X_test)\n",
    "r2=r2_score(y_test,prediction)\n",
    "rmse=mean_squared_error(y_test,prediction,squared=False)\n",
    "print('R2 score is:',r2)\n",
    "print('RMSE value is:',rmse)"
   ]
  },
  {
   "cell_type": "code",
   "execution_count": 13,
   "id": "fe188788",
   "metadata": {},
   "outputs": [],
   "source": [
    "import pickle"
   ]
  },
  {
   "cell_type": "code",
   "execution_count": 14,
   "id": "103ff227",
   "metadata": {},
   "outputs": [],
   "source": [
    "pickle.dump(regressor,open('regmodel.pkl','wb'))"
   ]
  },
  {
   "cell_type": "code",
   "execution_count": null,
   "id": "6daf29c9",
   "metadata": {},
   "outputs": [],
   "source": [
    "pickled_model=pickle.load(open('regmodel.pkl','rb'))"
   ]
  }
 ],
 "metadata": {
  "kernelspec": {
   "display_name": "Python 3 (ipykernel)",
   "language": "python",
   "name": "python3"
  },
  "language_info": {
   "codemirror_mode": {
    "name": "ipython",
    "version": 3
   },
   "file_extension": ".py",
   "mimetype": "text/x-python",
   "name": "python",
   "nbconvert_exporter": "python",
   "pygments_lexer": "ipython3",
   "version": "3.9.12"
  }
 },
 "nbformat": 4,
 "nbformat_minor": 5
}
